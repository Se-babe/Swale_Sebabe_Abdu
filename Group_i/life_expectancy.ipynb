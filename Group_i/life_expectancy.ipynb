{
 "cells": [
  {
   "cell_type": "code",
   "execution_count": 6,
   "id": "33009744",
   "metadata": {},
   "outputs": [
    {
     "name": "stdout",
     "output_type": "stream",
     "text": [
      "       Country  Year      Status  Life expectancy   Adult Mortality  \\\n",
      "0  Afghanistan  2015  Developing              65.0              263   \n",
      "1  Afghanistan  2014  Developing              59.9              271   \n",
      "2  Afghanistan  2013  Developing              59.9              268   \n",
      "3  Afghanistan  2012  Developing              59.5              272   \n",
      "4  Afghanistan  2011  Developing              59.2              275   \n",
      "\n",
      "   infant deaths  Alcohol  percentage expenditure  Hepatitis B  Measles   ...  \\\n",
      "0             62     0.01               71.279624           65      1154  ...   \n",
      "1             64     0.01               73.523582           62       492  ...   \n",
      "2             66     0.01               73.219243           64       430  ...   \n",
      "3             69     0.01               78.184215           67      2787  ...   \n",
      "4             71     0.01                7.097109           68      3013  ...   \n",
      "\n",
      "   Polio  Total expenditure  Diphtheria    HIV/AIDS         GDP  Population  \\\n",
      "0      6               8.16           65        0.1  584.259210  33736494.0   \n",
      "1     58               8.18           62        0.1  612.696514    327582.0   \n",
      "2     62               8.13           64        0.1  631.744976  31731688.0   \n",
      "3     67               8.52           67        0.1  669.959000   3696958.0   \n",
      "4     68               7.87           68        0.1   63.537231   2978599.0   \n",
      "\n",
      "    thinness  1-19 years   thinness 5-9 years  \\\n",
      "0                   17.2                 17.3   \n",
      "1                   17.5                 17.5   \n",
      "2                   17.7                 17.7   \n",
      "3                   17.9                 18.0   \n",
      "4                   18.2                 18.2   \n",
      "\n",
      "   Income composition of resources  Schooling  \n",
      "0                            0.479       10.1  \n",
      "1                            0.476       10.0  \n",
      "2                            0.470        9.9  \n",
      "3                            0.463        9.8  \n",
      "4                            0.454        9.5  \n",
      "\n",
      "[5 rows x 22 columns]\n"
     ]
    }
   ],
   "source": [
    "import pandas as pd\n",
    "\n",
    "# Load the dataset (replace 'health_data.csv' with your file path)\n",
    "df = pd.read_csv('Life_Expectancy_Data.csv')\n",
    "\n",
    "# Display the first 5 rows to check the data\n",
    "print(df.head())"
   ]
  },
  {
   "cell_type": "code",
   "execution_count": 7,
   "id": "23a96c7f",
   "metadata": {},
   "outputs": [
    {
     "name": "stdout",
     "output_type": "stream",
     "text": [
      "Missing Values per Column:\n",
      "Country                            0\n",
      "Year                               0\n",
      "Status                             0\n",
      "Life expectancy                    0\n",
      "Adult Mortality                    0\n",
      "infant deaths                      0\n",
      "Alcohol                            0\n",
      "percentage expenditure             0\n",
      "Hepatitis B                        0\n",
      "Measles                            0\n",
      " BMI                               0\n",
      "under-five deaths                  0\n",
      "Polio                              0\n",
      "Total expenditure                  0\n",
      "Diphtheria                         0\n",
      " HIV/AIDS                          0\n",
      "GDP                                0\n",
      "Population                         0\n",
      " thinness  1-19 years              0\n",
      " thinness 5-9 years                0\n",
      "Income composition of resources    0\n",
      "Schooling                          0\n",
      "dtype: int64\n"
     ]
    }
   ],
   "source": [
    "# Count missing values per column\n",
    "missing_values = df.isnull().sum()\n",
    "print(\"Missing Values per Column:\")\n",
    "print(missing_values)"
   ]
  },
  {
   "cell_type": "code",
   "execution_count": 8,
   "id": "b4a5e25a",
   "metadata": {},
   "outputs": [
    {
     "name": "stdout",
     "output_type": "stream",
     "text": [
      "\n",
      "Missing Values Percentage per Column:\n",
      "Country                            0.0\n",
      "Year                               0.0\n",
      "Status                             0.0\n",
      "Life expectancy                    0.0\n",
      "Adult Mortality                    0.0\n",
      "infant deaths                      0.0\n",
      "Alcohol                            0.0\n",
      "percentage expenditure             0.0\n",
      "Hepatitis B                        0.0\n",
      "Measles                            0.0\n",
      " BMI                               0.0\n",
      "under-five deaths                  0.0\n",
      "Polio                              0.0\n",
      "Total expenditure                  0.0\n",
      "Diphtheria                         0.0\n",
      " HIV/AIDS                          0.0\n",
      "GDP                                0.0\n",
      "Population                         0.0\n",
      " thinness  1-19 years              0.0\n",
      " thinness 5-9 years                0.0\n",
      "Income composition of resources    0.0\n",
      "Schooling                          0.0\n",
      "dtype: float64\n"
     ]
    }
   ],
   "source": [
    "# Calculate percentage of missing values\n",
    "missing_percentage = (df.isnull().sum() / len(df)) * 100\n",
    "print(\"\\nMissing Values Percentage per Column:\")\n",
    "print(missing_percentage.round(2))  # Rounds to 2 decimal places"
   ]
  },
  {
   "cell_type": "code",
   "execution_count": 9,
   "id": "29c79590",
   "metadata": {},
   "outputs": [
    {
     "name": "stdout",
     "output_type": "stream",
     "text": [
      "\n",
      "Summary of Missing Values:\n",
      "Empty DataFrame\n",
      "Columns: [Missing Values, Percentage (%)]\n",
      "Index: []\n"
     ]
    }
   ],
   "source": [
    "# Create a summary DataFrame\n",
    "missing_summary = pd.DataFrame({\n",
    "    'Missing Values': missing_values,\n",
    "    'Percentage (%)': missing_percentage.round(2)\n",
    "})\n",
    "\n",
    "# Display columns with missing values only (if any)\n",
    "print(\"\\nSummary of Missing Values:\")\n",
    "print(missing_summary[missing_summary['Missing Values'] > 0])"
   ]
  },
  {
   "cell_type": "code",
   "execution_count": null,
   "id": "a4b52e62",
   "metadata": {
    "vscode": {
     "languageId": "markdown"
    }
   },
   "outputs": [],
   "source": [
    "### Task 2: Handling Missing Data\n",
    "\n",
    "In this dataset, the summary shows that there are **no missing values** in any column (`Missing Values` and `Percentage (%)` are all zero). Therefore, **no imputation or removal is necessary**.\n",
    "\n",
    "If missing values were present, the choice of method would depend on:\n",
    "- The proportion of missing data.\n",
    "- The importance of the variable.\n",
    "- The nature of the analysis.\n",
    "\n",
    "**Common approaches:**\n",
    "- **Imputation:** Filling missing values with mean, median, mode, or using advanced techniques (e.g., KNN imputation).\n",
    "- **Removal:** Dropping rows or columns with missing values, suitable when the proportion is very small.\n",
    "- **Algorithms that handle missing values:** Some models (e.g., XGBoost) can handle missing data natively.\n",
    "\n",
    "**Justification for this dataset:**  \n",
    "Since there are no missing values, we can proceed with the analysis without any special handling for missing data."
   ]
  },
  {
   "cell_type": "markdown",
   "id": "6db9060f",
   "metadata": {},
   "source": [
    "\"After comprehensive analysis, no missing values were detected in the dataset. Thus, no imputation or removal methods were applied. This ensures the integrity of the original data for downstream tasks.\""
   ]
  },
  {
   "cell_type": "code",
   "execution_count": null,
   "id": "399d4696",
   "metadata": {
    "vscode": {
     "languageId": "markdown"
    }
   },
   "outputs": [],
   "source": [
    "### Task 3: Implement the Chosen Method and Evaluate Its Impact\n",
    "\n",
    "Since the dataset contains **no missing values** (as shown in the previous analysis), there is **no need to implement any imputation or removal methods**. All columns are complete, and the data integrity is preserved.\n",
    "\n",
    "**Impact on the Dataset:**\n",
    "- No data was altered or removed.\n",
    "- The dataset remains unchanged and ready for further analysis.\n",
    "- No loss of information or introduction of bias due to missing data handling.\n",
    "\n",
    "**Conclusion:**  \n",
    "We can proceed confidently to the next steps of data exploration and modeling, knowing that missing data does not affect our analysis."
   ]
  },
  {
   "cell_type": "code",
   "execution_count": null,
   "id": "b5b8503e",
   "metadata": {
    "vscode": {
     "languageId": "markdown"
    }
   },
   "outputs": [],
   "source": [
    "### Task 4: Explore the Dataset and Identify Potential Features\n",
    "\n",
    "To build predictive models or perform further analysis, it's important to identify relevant features (independent variables) and the target variable (dependent variable).\n",
    "\n",
    "**Target Variable:**\n",
    "- `Life expectancy`: This is typically the main outcome of interest in health and demographic studies.\n",
    "\n",
    "**Potential Features:**\n",
    "- **Demographic Variables:**\n",
    "    - `Country`\n",
    "    - `Year`\n",
    "    - `Status` (Developed/Developing)\n",
    "\n",
    "- **Health Indicators:**\n",
    "    - `Adult Mortality`\n",
    "    - `infant deaths`\n",
    "    - `under-five deaths`\n",
    "    - `Hepatitis B`\n",
    "    - `Measles`\n",
    "    - `Polio`\n",
    "    - `Diphtheria`\n",
    "    - `HIV/AIDS`\n",
    "    - `BMI`\n",
    "    - `thinness  1-19 years`\n",
    "    - `thinness 5-9 years`\n",
    "\n",
    "- **Socioeconomic Indicators:**\n",
    "    - `GDP`\n",
    "    - `Population`\n",
    "    - `percentage expenditure`\n",
    "    - `Total expenditure`\n",
    "    - `Income composition of resources`\n",
    "    - `Schooling`\n",
    "    - `Alcohol`\n",
    "\n",
    "**Feature Selection Considerations:**\n",
    "- Remove features with little variance or high correlation with others to avoid redundancy.\n",
    "- Consider encoding categorical variables (`Country`, `Status`) for modeling.\n",
    "- Exclude the `Year` variable if temporal trends are not of interest or if using data from a single year.\n",
    "\n",
    "**Next Steps:**\n",
    "- Perform exploratory data analysis (EDA) to understand distributions, relationships, and correlations among variables.\n",
    "- Visualize feature importance and check for multicollinearity before modeling."
   ]
  }
 ],
 "metadata": {
  "kernelspec": {
   "display_name": ".venv",
   "language": "python",
   "name": "python3"
  },
  "language_info": {
   "codemirror_mode": {
    "name": "ipython",
    "version": 3
   },
   "file_extension": ".py",
   "mimetype": "text/x-python",
   "name": "python",
   "nbconvert_exporter": "python",
   "pygments_lexer": "ipython3",
   "version": "3.10.11"
  }
 },
 "nbformat": 4,
 "nbformat_minor": 5
}
