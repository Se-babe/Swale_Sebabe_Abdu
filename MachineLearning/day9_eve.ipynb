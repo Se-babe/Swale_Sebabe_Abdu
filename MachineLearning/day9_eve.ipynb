{
 "cells": [
  {
   "cell_type": "code",
   "execution_count": null,
   "id": "422e400b",
   "metadata": {},
   "outputs": [],
   "source": [
    "#artificial-intelligence\n",
    "#machine-learning\n",
    "#for all this to happen one needs a data set either secondary or primary\n",
    "#basics of machine learning\n",
    "#1.data preprocessing\n",
    "#2.feature selection is the process of reducing the number of input variables when developing a predictive model\n",
    "\n",
    "#algorithms we use in feature selection\n",
    "#1.filter methods is a process that involves evaluating the relevance of features by their intrinsic properties, without involving any machine learning algorithms.\n",
    "#techniques under filter methods include statistical tests, correlation coefficients, and information gain,chi squared test, and mutual information.\n",
    "#includes indepednt evaluation of each feature\n",
    "#2.wrapper methods is a process that involves using a predictive model to evaluate the importance of features by training and testing the model with different subsets of features.\n",
    "#its also refered to as greedy algorithm because it evaluates the performance of the model with different subsets of features and selects the best performing subset.\n",
    "\n",
    "#3.embedded methods is a process that involves incorporating feature selection as part of the model training process, allowing the model to learn which features are most important.\n"
   ]
  }
 ],
 "metadata": {
  "language_info": {
   "name": "python"
  }
 },
 "nbformat": 4,
 "nbformat_minor": 5
}
