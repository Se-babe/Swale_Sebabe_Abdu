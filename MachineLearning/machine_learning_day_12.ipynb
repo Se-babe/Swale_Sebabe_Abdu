{
 "cells": [
  {
   "cell_type": "code",
   "execution_count": null,
   "id": "443475e7",
   "metadata": {},
   "outputs": [],
   "source": [
    "# training and validation loss-these are metrics used to monitor the models performance and generalization ability\n",
    "#the loss represents the discrepancy between the prediction output and the actual target values\n",
    "#training loss or error - refer to the error on the data that the model was trained on\n",
    "#validation loss is the error on unseen data ,used to evaluate the models performance done outside the training data set\n",
    "\n",
    "#key points on trainig loss\n",
    "#1.directly affect weight adjustments in the model\n",
    "#2.provide insights into how well the model fits the trainig data\n",
    "\n",
    "#common training loss functions\n",
    "#mean squred error\n",
    "#cross entropy loss\n",
    "#validation errror \n",
    "#key points\n",
    "#1.helps in accessing the models generalization\n",
    "#2.its used as a criterion for early stopping to prevent overtraining\n",
    "\n",
    "#relevance of tracking both losses\n",
    "# An epoch\n",
    " #Django and Tensorflow framework\n",
    " #tensor flow is a machine learning framework\n",
    " \n",
    " #properties\n",
    " \n",
    " #1.its open source library normally used for deep learning\n",
    " #2.flexible\n",
    " #3.it makes building models easier ,faster and more reproducible\n",
    " \n",
    " #1. import dependencies\n",
    " #2. Build and compile\n",
    " #3.fit ,predict and evaluate\n",
    " #4.saving and reloading model\n",
    " \n",
    " \n",
    " \n",
    "\n",
    " "
   ]
  }
 ],
 "metadata": {
  "language_info": {
   "name": "python"
  }
 },
 "nbformat": 4,
 "nbformat_minor": 5
}
