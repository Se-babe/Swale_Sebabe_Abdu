{
 "cells": [
  {
   "cell_type": "code",
   "execution_count": 2,
   "id": "e8d40f86",
   "metadata": {},
   "outputs": [
    {
     "name": "stdout",
     "output_type": "stream",
     "text": [
      "Series([], dtype: object)\n",
      "<class 'pandas.core.series.Series'>\n"
     ]
    }
   ],
   "source": [
    "#pandas series is like a one-dimensional array\n",
    "# with labeled indices.\n",
    "# It can hold any data type, including integers, floats, strings, and even Python objects.\n",
    "# To create a Series, you can use the pd.Series() constructor.\n",
    "\n",
    "import pandas as pd\n",
    "ser = pd.Series()\n",
    "print(ser)           \n",
    "\n",
    "print(type(ser))      # <class 'pandas.core.series.Series'>\n",
    "#<class 'pandas.core.series.Series'>\n",
    "\n"
   ]
  },
  {
   "cell_type": "code",
   "execution_count": 3,
   "id": "088aad15",
   "metadata": {},
   "outputs": [
    {
     "name": "stdout",
     "output_type": "stream",
     "text": [
      "0    a\n",
      "1    b\n",
      "2    c\n",
      "3    d\n",
      "4    e\n",
      "dtype: object\n"
     ]
    }
   ],
   "source": [
    "import numpy as np\n",
    "import pandas as pd\n",
    "#numpy array to pandas series\n",
    "# You can convert a NumPy array to a Pandas Series by passing the array to the pd.Series() constructor.\n",
    "data = np.array(['a', 'b', 'c', 'd', 'e'])\n",
    "ser = pd.Series(data)\n",
    "print(ser)"
   ]
  },
  {
   "cell_type": "code",
   "execution_count": 4,
   "id": "361a31e4",
   "metadata": {},
   "outputs": [
    {
     "name": "stdout",
     "output_type": "stream",
     "text": [
      "0     agnes\n",
      "1    sebabe\n",
      "2      abdu\n",
      "3      dave\n",
      "dtype: object\n"
     ]
    }
   ],
   "source": [
    "#creating a series from a list\n",
    "import pandas as pd\n",
    "data1 = ['agnes' , 'sebabe', 'abdu', 'dave']\n",
    "ser1 = pd.Series(data1)\n",
    "print(ser1)\n"
   ]
  },
  {
   "cell_type": "code",
   "execution_count": 6,
   "id": "db8e639e",
   "metadata": {},
   "outputs": [
    {
     "name": "stdout",
     "output_type": "stream",
     "text": [
      "name    Ssebabe\n",
      "age          25\n",
      "city       Arua\n",
      "dtype: object\n"
     ]
    }
   ],
   "source": [
    "#create a series from a dictionary\n",
    "import pandas as pd\n",
    "data2 = {'name': 'Ssebabe', 'age': 25, 'city': 'Arua'}\n",
    "ser2 = pd.Series(data2)\n",
    "print(ser2)\n"
   ]
  },
  {
   "cell_type": "code",
   "execution_count": 10,
   "id": "69a48b33",
   "metadata": {},
   "outputs": [
    {
     "name": "stdout",
     "output_type": "stream",
     "text": [
      "0     5\n",
      "1     6\n",
      "2     7\n",
      "3     8\n",
      "4     9\n",
      "5    10\n",
      "6    11\n",
      "7    12\n",
      "8    13\n",
      "9    14\n",
      "dtype: int64\n"
     ]
    }
   ],
   "source": [
    "#some functions in series\n",
    "import pandas as pd \n",
    "ser = pd.Series(range(5,15))\n",
    "print(ser)"
   ]
  },
  {
   "cell_type": "code",
   "execution_count": 12,
   "id": "5bbe87e9",
   "metadata": {},
   "outputs": [
    {
     "name": "stdout",
     "output_type": "stream",
     "text": [
      "0     1.00\n",
      "1     3.25\n",
      "2     5.50\n",
      "3     7.75\n",
      "4    10.00\n",
      "dtype: float64\n"
     ]
    }
   ],
   "source": [
    "#numpy.linespace\n",
    "ser1 = pd.Series(np.linspace(1, 10, 5))\n",
    "print(ser1)"
   ]
  },
  {
   "cell_type": "code",
   "execution_count": 13,
   "id": "b0312e5a",
   "metadata": {},
   "outputs": [
    {
     "name": "stdout",
     "output_type": "stream",
     "text": [
      "0     1.00\n",
      "1     3.25\n",
      "2     5.50\n",
      "3     7.75\n",
      "4    10.00\n",
      "dtype: float64\n"
     ]
    }
   ],
   "source": [
    "#numpy linespace()\n",
    "ser1 = pd.Series(np.linspace(1, 10, 5))\n",
    "print(ser1)"
   ]
  },
  {
   "cell_type": "code",
   "execution_count": 15,
   "id": "39ab944d",
   "metadata": {},
   "outputs": [
    {
     "name": "stdout",
     "output_type": "stream",
     "text": [
      "0    False\n",
      "1     True\n",
      "2     True\n",
      "3    False\n",
      "4    False\n",
      "dtype: bool\n"
     ]
    }
   ],
   "source": [
    "\n",
    "import pandas as pd\n",
    "ser1 = pd.Series([4, 65, 436, 3, 9])\n",
    "ser2 = pd.Series([7, 0, 3, 897, 9])\n",
    "comparison = ser1 > ser2\n",
    "print(comparison)\n"
   ]
  },
  {
   "cell_type": "code",
   "execution_count": 16,
   "id": "2c49f381",
   "metadata": {},
   "outputs": [
    {
     "name": "stdout",
     "output_type": "stream",
     "text": [
      "Addition:\n",
      " 0     3\n",
      "1     7\n",
      "2    11\n",
      "3    15\n",
      "4    23\n",
      "dtype: int64\n",
      "Subtraction:\n",
      " 0    1\n",
      "1    1\n",
      "2    1\n",
      "3    1\n",
      "4    5\n",
      "dtype: int64\n",
      "Multiplication:\n",
      " 0      2\n",
      "1     12\n",
      "2     30\n",
      "3     56\n",
      "4    126\n",
      "dtype: int64\n",
      "Division:\n",
      " 0    2.000000\n",
      "1    1.333333\n",
      "2    1.200000\n",
      "3    1.142857\n",
      "4    1.555556\n",
      "dtype: float64\n"
     ]
    }
   ],
   "source": [
    "#2.\tWrite a Pandas program to add, subtract, multiply and divide two Pandas series. \n",
    "#Sample Series: [2,4,6,8,14], [1,3,5,7,9]\n",
    "import pandas as pd\n",
    "ser1 = pd.Series([2, 4, 6, 8, 14])\n",
    "ser2 = pd.Series([1, 3, 5, 7, 9])\n",
    "# Addition\n",
    "addition = ser1 + ser2\n",
    "# Subtraction\n",
    "subtraction = ser1 - ser2\n",
    "# Multiplication\n",
    "multiplication = ser1 * ser2\n",
    "# Division\n",
    "division = ser1 / ser2\n",
    "print(\"Addition:\\n\", addition)\n",
    "print(\"Subtraction:\\n\", subtraction)\n",
    "print(\"Multiplication:\\n\", multiplication)\n",
    "print(\"Division:\\n\", division)\n",
    "\n"
   ]
  },
  {
   "cell_type": "code",
   "execution_count": 17,
   "id": "f2017a80",
   "metadata": {},
   "outputs": [
    {
     "name": "stdout",
     "output_type": "stream",
     "text": [
      "Josh       24\n",
      "Sam        36\n",
      "Peace      19\n",
      "Charles    65\n",
      "Tom        44\n",
      "dtype: int64\n"
     ]
    }
   ],
   "source": [
    "#3.\tWrite a Pandas program to convert a dictionary to a Pandas series. \n",
    "#Sample dictionary: dictionary1 = {‘Josh’: 24, ‘Sam’: 36, ‘Peace’: 19, ‘Charles’: 65, ‘Tom’: 44}\n",
    "import pandas as pd\n",
    "dictionary1 = {'Josh': 24, 'Sam': 36, 'Peace': 19, 'Charles': 65, 'Tom': 44}\n",
    "ser3 = pd.Series(dictionary1)\n",
    "print(ser3)\n",
    "\n"
   ]
  },
  {
   "cell_type": "code",
   "execution_count": 18,
   "id": "7c78e413",
   "metadata": {},
   "outputs": [
    {
     "name": "stdout",
     "output_type": "stream",
     "text": [
      "Array from Series:\n",
      " ['Love' 800 'Joy' 789.9 'Peace' True]\n"
     ]
    }
   ],
   "source": [
    "#4.\tWrite a Pandas program to convert a given series to an array.\n",
    "#Sample series: [‘Love’, 800, ‘Joy’, 789.9, ‘Peace’, True]\n",
    "import pandas as pd\n",
    "\n",
    "ser4 = pd.Series(['Love', 800, 'Joy', 789.9, 'Peace', True])\n",
    "array_from_series = ser4.to_numpy()\n",
    "print(\"Array from Series:\\n\", array_from_series)\n",
    "\n"
   ]
  },
  {
   "cell_type": "code",
   "execution_count": 19,
   "id": "8942277d",
   "metadata": {},
   "outputs": [
    {
     "name": "stdout",
     "output_type": "stream",
     "text": [
      "  HomeTeamGoals\n",
      "0         Other\n",
      "1             2\n",
      "2             2\n",
      "3         Other\n",
      "4         Other\n",
      "5             2\n",
      "6         Other\n",
      "7         Other\n",
      "8             2\n",
      "9         Other\n"
     ]
    }
   ],
   "source": [
    "#5.\tWrite a Pandas program to display the most frequent value in the given series and replace everything else as ‘Other’ in the series. (Use the ‘HomeTeamGoals’ column in the dataset provided)\n",
    "import pandas as pd\n",
    "# Sample data\n",
    "data = {'HomeTeamGoals': [1, 2, 2, 3, 1, 2, 4, 1, 2, 3]}\n",
    "df = pd.DataFrame(data)\n",
    "most_frequent = df['HomeTeamGoals'].mode()[0]\n",
    "df['HomeTeamGoals'] = df['HomeTeamGoals'].apply(lambda x: x if x == most_frequent else 'Other')\n",
    "print(df)\n"
   ]
  }
 ],
 "metadata": {
  "kernelspec": {
   "display_name": "Python 3",
   "language": "python",
   "name": "python3"
  },
  "language_info": {
   "codemirror_mode": {
    "name": "ipython",
    "version": 3
   },
   "file_extension": ".py",
   "mimetype": "text/x-python",
   "name": "python",
   "nbconvert_exporter": "python",
   "pygments_lexer": "ipython3",
   "version": "3.13.3"
  }
 },
 "nbformat": 4,
 "nbformat_minor": 5
}
