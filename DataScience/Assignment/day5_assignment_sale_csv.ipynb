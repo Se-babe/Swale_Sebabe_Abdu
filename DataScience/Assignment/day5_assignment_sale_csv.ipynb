{
 "cells": [
  {
   "cell_type": "code",
   "execution_count": 1,
   "id": "19fce3cc",
   "metadata": {},
   "outputs": [],
   "source": [
    "import pandas as pd\n",
    "import numpy as np\n",
    "\n",
    "# Load the dataset\n",
    "df_sales = pd.read_csv('Sales.csv')\n"
   ]
  },
  {
   "cell_type": "code",
   "execution_count": 7,
   "id": "d98c7149",
   "metadata": {},
   "outputs": [
    {
     "data": {
      "text/html": [
       "<div>\n",
       "<style scoped>\n",
       "    .dataframe tbody tr th:only-of-type {\n",
       "        vertical-align: middle;\n",
       "    }\n",
       "\n",
       "    .dataframe tbody tr th {\n",
       "        vertical-align: top;\n",
       "    }\n",
       "\n",
       "    .dataframe thead th {\n",
       "        text-align: right;\n",
       "    }\n",
       "</style>\n",
       "<table border=\"1\" class=\"dataframe\">\n",
       "  <thead>\n",
       "    <tr style=\"text-align: right;\">\n",
       "      <th></th>\n",
       "      <th>Order ID</th>\n",
       "      <th>Customer Name</th>\n",
       "      <th>Order Date</th>\n",
       "      <th>Product</th>\n",
       "      <th>Quantity</th>\n",
       "      <th>Unit Price</th>\n",
       "      <th>Total Revenue</th>\n",
       "    </tr>\n",
       "  </thead>\n",
       "  <tbody>\n",
       "    <tr>\n",
       "      <th>0</th>\n",
       "      <td>1001</td>\n",
       "      <td>John Doe</td>\n",
       "      <td>2024-01-01</td>\n",
       "      <td>Widget A</td>\n",
       "      <td>10.0</td>\n",
       "      <td>25.0</td>\n",
       "      <td>250.0</td>\n",
       "    </tr>\n",
       "    <tr>\n",
       "      <th>1</th>\n",
       "      <td>1002</td>\n",
       "      <td>Jane Smith</td>\n",
       "      <td>2024-01-02</td>\n",
       "      <td>Widget B</td>\n",
       "      <td>5.0</td>\n",
       "      <td>40.0</td>\n",
       "      <td>200.0</td>\n",
       "    </tr>\n",
       "    <tr>\n",
       "      <th>2</th>\n",
       "      <td>1003</td>\n",
       "      <td>Unknown</td>\n",
       "      <td>NaT</td>\n",
       "      <td>Widget A</td>\n",
       "      <td>5.0</td>\n",
       "      <td>25.0</td>\n",
       "      <td>125.0</td>\n",
       "    </tr>\n",
       "    <tr>\n",
       "      <th>3</th>\n",
       "      <td>1004</td>\n",
       "      <td>Alice Johnson</td>\n",
       "      <td>2024-04-01</td>\n",
       "      <td>Widget C</td>\n",
       "      <td>3.0</td>\n",
       "      <td>70.0</td>\n",
       "      <td>210.0</td>\n",
       "    </tr>\n",
       "    <tr>\n",
       "      <th>4</th>\n",
       "      <td>1005</td>\n",
       "      <td>Bob Brown</td>\n",
       "      <td>NaT</td>\n",
       "      <td>Widget B</td>\n",
       "      <td>10.0</td>\n",
       "      <td>40.0</td>\n",
       "      <td>400.0</td>\n",
       "    </tr>\n",
       "    <tr>\n",
       "      <th>5</th>\n",
       "      <td>1006</td>\n",
       "      <td>John Doe</td>\n",
       "      <td>2024-06-01</td>\n",
       "      <td>Widget A</td>\n",
       "      <td>4.0</td>\n",
       "      <td>25.0</td>\n",
       "      <td>100.0</td>\n",
       "    </tr>\n",
       "    <tr>\n",
       "      <th>7</th>\n",
       "      <td>1007</td>\n",
       "      <td>Jane Smith</td>\n",
       "      <td>2024-07-01</td>\n",
       "      <td>Widget C</td>\n",
       "      <td>6.0</td>\n",
       "      <td>70.0</td>\n",
       "      <td>420.0</td>\n",
       "    </tr>\n",
       "  </tbody>\n",
       "</table>\n",
       "</div>"
      ],
      "text/plain": [
       "   Order ID  Customer Name Order Date   Product  Quantity  Unit Price  \\\n",
       "0      1001       John Doe 2024-01-01  Widget A      10.0        25.0   \n",
       "1      1002     Jane Smith 2024-01-02  Widget B       5.0        40.0   \n",
       "2      1003        Unknown        NaT  Widget A       5.0        25.0   \n",
       "3      1004  Alice Johnson 2024-04-01  Widget C       3.0        70.0   \n",
       "4      1005      Bob Brown        NaT  Widget B      10.0        40.0   \n",
       "5      1006       John Doe 2024-06-01  Widget A       4.0        25.0   \n",
       "7      1007     Jane Smith 2024-07-01  Widget C       6.0        70.0   \n",
       "\n",
       "   Total Revenue  \n",
       "0          250.0  \n",
       "1          200.0  \n",
       "2          125.0  \n",
       "3          210.0  \n",
       "4          400.0  \n",
       "5          100.0  \n",
       "7          420.0  "
      ]
     },
     "execution_count": 7,
     "metadata": {},
     "output_type": "execute_result"
    }
   ],
   "source": [
    "df_sales"
   ]
  },
  {
   "cell_type": "code",
   "execution_count": 2,
   "id": "b0b52573",
   "metadata": {},
   "outputs": [],
   "source": [
    "# 1. Handle missing values\n",
    "\n",
    "# Fill missing 'Customer Name' with \"Unknown\"\n",
    "if 'Customer Name' in df_sales.columns:\n",
    "    df_sales['Customer Name'] = df_sales['Customer Name'].fillna('Unknown')\n",
    "\n",
    "# Fill missing 'Quantity' with median\n",
    "if 'Quantity' in df_sales.columns:\n",
    "    df_sales['Quantity'] = df_sales['Quantity'].fillna(df_sales['Quantity'].median())\n",
    "\n",
    "# Calculate missing 'Unit Price' where 'Total Revenue' and 'Quantity' are present and valid\n",
    "if {'Unit Price', 'Total Revenue', 'Quantity'}.issubset(df_sales.columns):\n",
    "    mask = (df_sales['Unit Price'].isna()) & (df_sales['Total Revenue'].notna()) & (df_sales['Quantity'] > 0)\n",
    "    df_sales.loc[mask, 'Unit Price'] = df_sales.loc[mask, 'Total Revenue'] / df_sales.loc[mask, 'Quantity']\n",
    "\n",
    "    # Fill remaining missing 'Unit Price' with median per Product\n",
    "    df_sales['Unit Price'] = df_sales.groupby('Product')['Unit Price'].transform(lambda x: x.fillna(x.median()))\n",
    "\n",
    "# Calculate missing 'Total Revenue' where possible\n",
    "if {'Total Revenue', 'Unit Price', 'Quantity'}.issubset(df_sales.columns):\n",
    "    mask = (df_sales['Total Revenue'].isna()) & (df_sales['Unit Price'].notna()) & (df_sales['Quantity'].notna())\n",
    "    df_sales.loc[mask, 'Total Revenue'] = df_sales.loc[mask, 'Unit Price'] * df_sales.loc[mask, 'Quantity']\n"
   ]
  },
  {
   "cell_type": "code",
   "execution_count": 3,
   "id": "1d9e2724",
   "metadata": {},
   "outputs": [],
   "source": [
    "# 2. Fix inconsistent date formats\n",
    "if 'Order Date' in df_sales.columns:\n",
    "    df_sales['Order Date'] = df_sales['Order Date'].astype(str).str.replace(\"'\", \"\", regex=False)\n",
    "    df_sales['Order Date'] = pd.to_datetime(df_sales['Order Date'], errors='coerce')"
   ]
  },
  {
   "cell_type": "code",
   "execution_count": 4,
   "id": "c42d42e2",
   "metadata": {},
   "outputs": [],
   "source": [
    "\n",
    "# 3. Remove duplicate rows\n",
    "df_sales = df_sales.drop_duplicates()"
   ]
  },
  {
   "cell_type": "code",
   "execution_count": 5,
   "id": "f34378ee",
   "metadata": {},
   "outputs": [],
   "source": [
    "\n",
    "# 4. Fix wrong data\n",
    "# Convert negative 'Quantity' and 'Total Revenue' to positive values\n",
    "if 'Quantity' in df_sales.columns:\n",
    "    df_sales['Quantity'] = df_sales['Quantity'].apply(lambda x: abs(x) if x < 0 else x)\n",
    "\n",
    "if 'Total Revenue' in df_sales.columns:\n",
    "    df_sales['Total Revenue'] = df_sales['Total Revenue'].apply(lambda x: abs(x) if x < 0 else x)"
   ]
  },
  {
   "cell_type": "code",
   "execution_count": 8,
   "id": "2a222452",
   "metadata": {},
   "outputs": [
    {
     "name": "stdout",
     "output_type": "stream",
     "text": [
      " Sales data cleaned and saved to 'Sales_cleaned.csv'\n"
     ]
    }
   ],
   "source": [
    "\n",
    "\n",
    "# 5. No unnecessary columns found — skipping column drop\n",
    "\n",
    "# Save cleaned dataset\n",
    "df_sales.to_csv('Sales_cleaned.csv', index=False)\n",
    "\n",
    "# Confirmation message\n",
    "print(\" Sales data cleaned and saved to 'Sales_cleaned.csv'\")\n"
   ]
  }
 ],
 "metadata": {
  "kernelspec": {
   "display_name": ".venv",
   "language": "python",
   "name": "python3"
  },
  "language_info": {
   "codemirror_mode": {
    "name": "ipython",
    "version": 3
   },
   "file_extension": ".py",
   "mimetype": "text/x-python",
   "name": "python",
   "nbconvert_exporter": "python",
   "pygments_lexer": "ipython3",
   "version": "3.10.11"
  }
 },
 "nbformat": 4,
 "nbformat_minor": 5
}
