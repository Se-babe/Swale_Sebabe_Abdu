{
 "cells": [
  {
   "cell_type": "code",
   "execution_count": null,
   "id": "a1f77445",
   "metadata": {},
   "outputs": [],
   "source": [
    "#data science  with python :data analysis\n",
    "#these are scientific methods for exracting insightsfrom data\n",
    "#key elements of data science\n",
    "#data collection \n",
    "#data cleaning\n",
    "#data exploration\n",
    "#data visaulization\n",
    "#data modelling\n",
    "#data interpretation\n",
    "\n",
    "#why data science matters\n",
    "\n"
   ]
  },
  {
   "cell_type": "code",
   "execution_count": null,
   "id": "4fdcc531",
   "metadata": {},
   "outputs": [],
   "source": [
    "#what is the difference between data science and data analyisis\n",
    "#data science is a broader field that encompasses data analysis, but also includes aspects like machine learning, big data technologies, and advanced statistical methods.\n",
    "#data analysis is a subset of data science that focuses specifically on examining datasets to draw conclusions and insights.\n",
    "#data science is a multidisciplinary field that uses scientific methods, processes, algorithms, and systems to extract knowledge and insights from structured and unstructured data.\n",
    "#data engineering is a crucial aspect of data science that involves the design and construction of systems for collecting, storing, and analyzing data."
   ]
  },
  {
   "cell_type": "code",
   "execution_count": null,
   "id": "84875412",
   "metadata": {},
   "outputs": [],
   "source": [
    "#tools used in data science\n",
    "#python\n",
    "#R\n",
    "#SQL\n",
    "#Hadoop\n",
    "#Spark\n",
    "#Tableau\n",
    "#Jupyter Notebook\n",
    "#power BI"
   ]
  },
  {
   "cell_type": "code",
   "execution_count": null,
   "id": "acbacc32",
   "metadata": {},
   "outputs": [],
   "source": [
    "'''what are the career path in data science\n",
    "1. Data Analyst\n",
    "2. Data Scientist\n",
    "3. Machine Learning Engineer\n",
    "4. Data Engineer\n",
    "5. Business Intelligence Analyst\n",
    "6. Statistician\n",
    "7. Data Architect\n",
    "8. Research Scientist '''"
   ]
  }
 ],
 "metadata": {
  "language_info": {
   "name": "python"
  }
 },
 "nbformat": 4,
 "nbformat_minor": 5
}
