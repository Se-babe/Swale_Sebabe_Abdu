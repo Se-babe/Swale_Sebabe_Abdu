{
 "cells": [
  {
   "cell_type": "code",
   "execution_count": 1,
   "id": "13587db0",
   "metadata": {},
   "outputs": [
    {
     "name": "stdout",
     "output_type": "stream",
     "text": [
      "Series1:\n",
      " 0      4\n",
      "1     65\n",
      "2    436\n",
      "3      3\n",
      "4      9\n",
      "dtype: int64\n",
      "Series2:\n",
      " 0      7\n",
      "1      0\n",
      "2      3\n",
      "3    897\n",
      "4      9\n",
      "dtype: int64\n",
      "\n",
      "Equal:\n",
      " 0    False\n",
      "1    False\n",
      "2    False\n",
      "3    False\n",
      "4     True\n",
      "dtype: bool\n",
      "\n",
      "Not equal:\n",
      " 0     True\n",
      "1     True\n",
      "2     True\n",
      "3     True\n",
      "4    False\n",
      "dtype: bool\n",
      "\n",
      "Greater than:\n",
      " 0    False\n",
      "1     True\n",
      "2     True\n",
      "3    False\n",
      "4    False\n",
      "dtype: bool\n",
      "\n",
      "Less than:\n",
      " 0     True\n",
      "1    False\n",
      "2    False\n",
      "3     True\n",
      "4    False\n",
      "dtype: bool\n",
      "\n",
      "Greater than or equal:\n",
      " 0    False\n",
      "1     True\n",
      "2     True\n",
      "3    False\n",
      "4     True\n",
      "dtype: bool\n",
      "\n",
      "Less than or equal:\n",
      " 0     True\n",
      "1    False\n",
      "2    False\n",
      "3     True\n",
      "4     True\n",
      "dtype: bool\n"
     ]
    }
   ],
   "source": [
    "import pandas as pd\n",
    "\n",
    "# Sample Series\n",
    "series1 = pd.Series([4, 65, 436, 3, 9])\n",
    "series2 = pd.Series([7, 0, 3, 897, 9])\n",
    "\n",
    "# Element-wise comparisons\n",
    "print(\"Series1:\\n\", series1)\n",
    "print(\"Series2:\\n\", series2)\n",
    "\n",
    "print(\"\\nEqual:\\n\", series1 == series2)\n",
    "print(\"\\nNot equal:\\n\", series1 != series2)\n",
    "print(\"\\nGreater than:\\n\", series1 > series2)\n",
    "print(\"\\nLess than:\\n\", series1 < series2)\n",
    "print(\"\\nGreater than or equal:\\n\", series1 >= series2)\n",
    "print(\"\\nLess than or equal:\\n\", series1 <= series2)\n"
   ]
  }
 ],
 "metadata": {
  "kernelspec": {
   "display_name": "Python 3",
   "language": "python",
   "name": "python3"
  },
  "language_info": {
   "codemirror_mode": {
    "name": "ipython",
    "version": 3
   },
   "file_extension": ".py",
   "mimetype": "text/x-python",
   "name": "python",
   "nbconvert_exporter": "python",
   "pygments_lexer": "ipython3",
   "version": "3.13.3"
  }
 },
 "nbformat": 4,
 "nbformat_minor": 5
}
