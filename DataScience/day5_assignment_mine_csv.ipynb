{
 "cells": [
  {
   "cell_type": "code",
   "execution_count": 3,
   "id": "3d1b2a9d",
   "metadata": {},
   "outputs": [
    {
     "name": "stdout",
     "output_type": "stream",
     "text": [
      "✅ Dataset cleaned and saved as 'Mine_cleaned.csv'\n"
     ]
    }
   ],
   "source": [
    "import pandas as pd\n",
    "import numpy as np\n",
    "\n",
    "# Load the dataset\n",
    "df_mine = pd.read_csv('Mine.csv')\n",
    "\n",
    "# 1. Handle missing values\n",
    "# Fill missing 'Pulse' and 'Maxpulse' with median, 'Calories' with mean\n",
    "if 'Pulse' in df_mine.columns:\n",
    "    df_mine['Pulse'] = df_mine['Pulse'].fillna(df_mine['Pulse'].median())\n",
    "\n",
    "if 'Maxpulse' in df_mine.columns:\n",
    "    df_mine['Maxpulse'] = df_mine['Maxpulse'].fillna(df_mine['Maxpulse'].median())\n",
    "\n",
    "if 'Calories' in df_mine.columns:\n",
    "    df_mine['Calories'] = df_mine['Calories'].fillna(df_mine['Calories'].mean())\n",
    "\n",
    "# 2. Fix inconsistent date formats\n",
    "# Remove trailing single quotes and standardize format\n",
    "if 'Date' in df_mine.columns:\n",
    "    df_mine['Date'] = df_mine['Date'].astype(str).str.replace(\"'\", \"\", regex=False)\n",
    "\n",
    "    # Try converting directly to datetime\n",
    "    df_mine['Date'] = pd.to_datetime(df_mine['Date'], errors='coerce')\n",
    "\n",
    "    # Fix special cases like 20231018 (YYYYMMDD) by replacing them with YYYY/MM/DD\n",
    "    def fix_strict_format(d):\n",
    "        if d.isdigit() and len(d) == 8:\n",
    "            return f\"{d[:4]}/{d[4:6]}/{d[6:]}\"\n",
    "        return d\n",
    "\n",
    "    df_mine['Date'] = df_mine['Date'].fillna(\n",
    "        pd.to_datetime(df_mine['Date'].astype(str).apply(fix_strict_format), errors='coerce')\n",
    "    )\n",
    "\n",
    "# 3. Remove duplicate rows\n",
    "df_mine = df_mine.drop_duplicates()\n",
    "\n",
    "# 4. Fix wrong data\n",
    "# Fix unrealistic Duration = 400\n",
    "if 'Duration' in df_mine.columns:\n",
    "    df_mine.loc[df_mine['Duration'] == 400, 'Duration'] = 40\n",
    "\n",
    "# Fix Maxpulse values below 100\n",
    "if 'Maxpulse' in df_mine.columns:\n",
    "    df_mine.loc[df_mine['Maxpulse'] < 100, 'Maxpulse'] = df_mine['Maxpulse'].median()\n",
    "\n",
    "# 5. Drop unnecessary columns — no action needed (but you could do df.drop(['col1', 'col2'], axis=1))\n",
    "\n",
    "# Save cleaned dataset\n",
    "df_mine.to_csv('Mine_cleaned.csv', index=False)\n",
    "\n",
    "# Show confirmation\n",
    "print(\"✅ Dataset cleaned and saved as 'Mine_cleaned.csv'\")\n"
   ]
  }
 ],
 "metadata": {
  "kernelspec": {
   "display_name": "Python 3",
   "language": "python",
   "name": "python3"
  },
  "language_info": {
   "codemirror_mode": {
    "name": "ipython",
    "version": 3
   },
   "file_extension": ".py",
   "mimetype": "text/x-python",
   "name": "python",
   "nbconvert_exporter": "python",
   "pygments_lexer": "ipython3",
   "version": "3.13.3"
  }
 },
 "nbformat": 4,
 "nbformat_minor": 5
}
