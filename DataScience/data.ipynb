{
 "cells": [
  {
   "cell_type": "code",
   "execution_count": null,
   "id": "fddd8208",
   "metadata": {},
   "outputs": [],
   "source": [
    "#reading and writing to a file\n",
    "#opening a file in read mode\n",
    "file = open(\"sebabe.txt\", \"r\")#r is for the read mode\n",
    "#reading the entire content of the file\n"
   ]
  },
  {
   "cell_type": "code",
   "execution_count": 2,
   "id": "bcacdc50",
   "metadata": {},
   "outputs": [
    {
     "name": "stdout",
     "output_type": "stream",
     "text": [
      "welcome i love data science and machine learning\n"
     ]
    }
   ],
   "source": [
    "print(\"welcome i love data science and machine learning\")"
   ]
  },
  {
   "cell_type": "code",
   "execution_count": 13,
   "id": "caa805e5",
   "metadata": {},
   "outputs": [
    {
     "name": "stdout",
     "output_type": "stream",
     "text": [
      "working with text files \n"
     ]
    }
   ],
   "source": [
    "#reading the entire content of the file\n",
    "with open(\"sebabe.txt\", \"r\") as file:\n",
    "\tcontent = file.read()\n",
    "print(content)"
   ]
  },
  {
   "cell_type": "code",
   "execution_count": 17,
   "id": "616f968e",
   "metadata": {},
   "outputs": [
    {
     "name": "stdout",
     "output_type": "stream",
     "text": [
      "File written successfully\n"
     ]
    }
   ],
   "source": [
    "#writing to a file \n",
    "with open(\"swale.txt\", \"w\") as file:\n",
    "    file.write(\"I love data science and machine learning.\\n\")\n",
    "    \n",
    "    print(\"File written successfully\")"
   ]
  },
  {
   "cell_type": "code",
   "execution_count": 18,
   "id": "8e64db1b",
   "metadata": {},
   "outputs": [
    {
     "name": "stdout",
     "output_type": "stream",
     "text": [
      "File appended successfully\n"
     ]
    }
   ],
   "source": [
    "#appending to a file \n",
    "with open(\"swale.txt\", \"a\") as file:\n",
    "    file.write(\"I am learning Python.\\n\")\n",
    "    \n",
    "    print(\"File appended successfully\")"
   ]
  }
 ],
 "metadata": {
  "kernelspec": {
   "display_name": "Python 3",
   "language": "python",
   "name": "python3"
  },
  "language_info": {
   "codemirror_mode": {
    "name": "ipython",
    "version": 3
   },
   "file_extension": ".py",
   "mimetype": "text/x-python",
   "name": "python",
   "nbconvert_exporter": "python",
   "pygments_lexer": "ipython3",
   "version": "3.13.3"
  }
 },
 "nbformat": 4,
 "nbformat_minor": 5
}
