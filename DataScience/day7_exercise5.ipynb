{
 "cells": [
  {
   "cell_type": "code",
   "execution_count": 1,
   "id": "a6737f17",
   "metadata": {},
   "outputs": [
    {
     "name": "stdout",
     "output_type": "stream",
     "text": [
      "  HomeTeamGoals\n",
      "0             1\n",
      "1         Other\n",
      "2             1\n",
      "3         Other\n",
      "4         Other\n",
      "5             1\n",
      "6         Other\n",
      "7             1\n",
      "8         Other\n",
      "9         Other\n"
     ]
    }
   ],
   "source": [
    "import pandas as pd\n",
    "\n",
    "# Example: Load your dataset (replace this with your actual dataset path)\n",
    "# df = pd.read_csv(\"your_dataset.csv\")\n",
    "\n",
    "# For demonstration, here's a mock-up column\n",
    "df = pd.DataFrame({\n",
    "    'HomeTeamGoals': [1, 2, 1, 3, 2, 1, 4, 1, 2, 5]\n",
    "})\n",
    "\n",
    "# Find the most frequent value\n",
    "most_freq = df['HomeTeamGoals'].mode()[0]\n",
    "\n",
    "# Replace all values except the most frequent with 'Other'\n",
    "df['HomeTeamGoals'] = df['HomeTeamGoals'].apply(lambda x: x if x == most_freq else 'Other')\n",
    "\n",
    "# Display the result\n",
    "print(df)\n"
   ]
  }
 ],
 "metadata": {
  "kernelspec": {
   "display_name": "Python 3",
   "language": "python",
   "name": "python3"
  },
  "language_info": {
   "codemirror_mode": {
    "name": "ipython",
    "version": 3
   },
   "file_extension": ".py",
   "mimetype": "text/x-python",
   "name": "python",
   "nbconvert_exporter": "python",
   "pygments_lexer": "ipython3",
   "version": "3.13.3"
  }
 },
 "nbformat": 4,
 "nbformat_minor": 5
}
