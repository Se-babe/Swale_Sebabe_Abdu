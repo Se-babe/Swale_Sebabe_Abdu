{
 "cells": [
  {
   "cell_type": "code",
   "execution_count": 1,
   "id": "19fce3cc",
   "metadata": {},
   "outputs": [
    {
     "name": "stdout",
     "output_type": "stream",
     "text": [
      "✅ Sales data cleaned and saved to 'Sales_cleaned.csv'\n"
     ]
    }
   ],
   "source": [
    "import pandas as pd\n",
    "import numpy as np\n",
    "\n",
    "# Load the dataset\n",
    "df_sales = pd.read_csv('Sales.csv')\n",
    "\n",
    "# 1. Handle missing values\n",
    "\n",
    "# Fill missing 'Customer Name' with \"Unknown\"\n",
    "if 'Customer Name' in df_sales.columns:\n",
    "    df_sales['Customer Name'] = df_sales['Customer Name'].fillna('Unknown')\n",
    "\n",
    "# Fill missing 'Quantity' with median\n",
    "if 'Quantity' in df_sales.columns:\n",
    "    df_sales['Quantity'] = df_sales['Quantity'].fillna(df_sales['Quantity'].median())\n",
    "\n",
    "# Calculate missing 'Unit Price' where 'Total Revenue' and 'Quantity' are present and valid\n",
    "if {'Unit Price', 'Total Revenue', 'Quantity'}.issubset(df_sales.columns):\n",
    "    mask = (df_sales['Unit Price'].isna()) & (df_sales['Total Revenue'].notna()) & (df_sales['Quantity'] > 0)\n",
    "    df_sales.loc[mask, 'Unit Price'] = df_sales.loc[mask, 'Total Revenue'] / df_sales.loc[mask, 'Quantity']\n",
    "\n",
    "    # Fill remaining missing 'Unit Price' with median per Product\n",
    "    df_sales['Unit Price'] = df_sales.groupby('Product')['Unit Price'].transform(lambda x: x.fillna(x.median()))\n",
    "\n",
    "# Calculate missing 'Total Revenue' where possible\n",
    "if {'Total Revenue', 'Unit Price', 'Quantity'}.issubset(df_sales.columns):\n",
    "    mask = (df_sales['Total Revenue'].isna()) & (df_sales['Unit Price'].notna()) & (df_sales['Quantity'].notna())\n",
    "    df_sales.loc[mask, 'Total Revenue'] = df_sales.loc[mask, 'Unit Price'] * df_sales.loc[mask, 'Quantity']\n",
    "\n",
    "# 2. Fix inconsistent date formats\n",
    "if 'Order Date' in df_sales.columns:\n",
    "    df_sales['Order Date'] = df_sales['Order Date'].astype(str).str.replace(\"'\", \"\", regex=False)\n",
    "    df_sales['Order Date'] = pd.to_datetime(df_sales['Order Date'], errors='coerce')\n",
    "\n",
    "# 3. Remove duplicate rows\n",
    "df_sales = df_sales.drop_duplicates()\n",
    "\n",
    "# 4. Fix wrong data\n",
    "# Convert negative 'Quantity' and 'Total Revenue' to positive values\n",
    "if 'Quantity' in df_sales.columns:\n",
    "    df_sales['Quantity'] = df_sales['Quantity'].apply(lambda x: abs(x) if x < 0 else x)\n",
    "\n",
    "if 'Total Revenue' in df_sales.columns:\n",
    "    df_sales['Total Revenue'] = df_sales['Total Revenue'].apply(lambda x: abs(x) if x < 0 else x)\n",
    "\n",
    "# 5. No unnecessary columns found — skipping column drop\n",
    "\n",
    "# Save cleaned dataset\n",
    "df_sales.to_csv('Sales_cleaned.csv', index=False)\n",
    "\n",
    "# Confirmation message\n",
    "print(\"✅ Sales data cleaned and saved to 'Sales_cleaned.csv'\")\n"
   ]
  }
 ],
 "metadata": {
  "kernelspec": {
   "display_name": "Python 3",
   "language": "python",
   "name": "python3"
  },
  "language_info": {
   "codemirror_mode": {
    "name": "ipython",
    "version": 3
   },
   "file_extension": ".py",
   "mimetype": "text/x-python",
   "name": "python",
   "nbconvert_exporter": "python",
   "pygments_lexer": "ipython3",
   "version": "3.13.3"
  }
 },
 "nbformat": 4,
 "nbformat_minor": 5
}
