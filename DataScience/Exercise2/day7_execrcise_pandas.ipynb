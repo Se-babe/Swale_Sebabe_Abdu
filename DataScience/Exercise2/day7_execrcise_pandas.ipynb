{
 "cells": [
  {
   "cell_type": "code",
   "execution_count": 1,
   "id": "cac8b17c",
   "metadata": {},
   "outputs": [],
   "source": [
    "import pandas as pd\n",
    "import numpy as np"
   ]
  },
  {
   "cell_type": "code",
   "execution_count": 25,
   "id": "f9204696",
   "metadata": {},
   "outputs": [
    {
     "name": "stdout",
     "output_type": "stream",
     "text": [
      "\n",
      "AFRICA CUP OF NATIONS MATCHES DATA ANALYSIS\n",
      "\n"
     ]
    }
   ],
   "source": [
    "# Load the dataset\n",
    "\n",
    "print(\"\"*60)\n",
    "print(\"AFRICA CUP OF NATIONS MATCHES DATA ANALYSIS\")\n",
    "print(\"\"*60)"
   ]
  },
  {
   "cell_type": "code",
   "execution_count": 5,
   "id": "a2e123a3",
   "metadata": {},
   "outputs": [
    {
     "name": "stdout",
     "output_type": "stream",
     "text": [
      "\n",
      " Reading the CSV file...\n",
      "✓ Dataset loaded successfully!\n"
     ]
    }
   ],
   "source": [
    "import pandas as pd\n",
    "\n",
    "# 1. Read the CSV file\n",
    "print(\"\\n Reading the CSV file...\")\n",
    "df = pd.read_csv('AfricaCupofNationsMatches.csv')  # Using the provided file\n",
    "print(\"✓ Dataset loaded successfully!\")"
   ]
  },
  {
   "cell_type": "code",
   "execution_count": 6,
   "id": "33948390",
   "metadata": {},
   "outputs": [
    {
     "name": "stdout",
     "output_type": "stream",
     "text": [
      "\n",
      " First 7 rows of the dataset:\n",
      "\n",
      "   Year      Date  Time    HomeTeam       AwayTeam  HomeTeamGoals  \\\n",
      "0  1957  10-Feb-57   NaN     Sudan           Egypt            1.0   \n",
      "1  1957  10-Feb-57   NaN  Ethiopia    South Africa            NaN   \n",
      "2  1957  16-Feb-57   NaN     Egypt        Ethiopia            4.0   \n",
      "3  1959  22-May-59   NaN      Egypt       Ethiopia            4.0   \n",
      "4  1959  25-May-59   NaN     Sudan        Ethiopia            1.0   \n",
      "5  1959  29-May-59   NaN      Egypt          Sudan            2.0   \n",
      "6  1962  14-Jan-62   NaN  Ethiopia         Tunisia            4.0   \n",
      "\n",
      "   AwayTeamGoals             Stage  \\\n",
      "0            2.0        Semifinals   \n",
      "1            NaN        Semifinals   \n",
      "2            0.0             Final   \n",
      "3            0.0  Final Tournament   \n",
      "4            0.0  Final Tournament   \n",
      "5            1.0  Final Tournament   \n",
      "6            2.0        Semifinals   \n",
      "\n",
      "                                SpecialWinConditions                 Stadium  \\\n",
      "0                                                NaN       Municipal Stadium   \n",
      "1  Ethiopia  wins due to disqualification of othe...                     NaN   \n",
      "2                                                NaN       Municipal Stadium   \n",
      "3                                                NaN   Prince Farouk Stadium   \n",
      "4                                                NaN   Prince Farouk Stadium   \n",
      "5                                                NaN   Prince Farouk Stadium   \n",
      "6                                                NaN  Hailé Sélassié Stadium   \n",
      "\n",
      "           City  Attendance  \n",
      "0      Khartoum     30000.0  \n",
      "1           NaN         NaN  \n",
      "2      Khartoum     30000.0  \n",
      "3         Cairo     30000.0  \n",
      "4         Cairo     20000.0  \n",
      "5         Cairo     30000.0  \n",
      "6   Addis Ababa     30000.0  \n"
     ]
    }
   ],
   "source": [
    "# 2. Get the first 7 rows\n",
    "print(\"\\n First 7 rows of the dataset:\")\n",
    "print(\"\"*50)\n",
    "print(df.head(7))"
   ]
  },
  {
   "cell_type": "code",
   "execution_count": 49,
   "id": "b7fcc459",
   "metadata": {},
   "outputs": [
    {
     "name": "stdout",
     "output_type": "stream",
     "text": [
      "\n",
      " Selecting 'HomeTeam', 'AwayTeam', 'HomeTeamGoals', 'AwayTeamGoals' columns:\n",
      "\n",
      "    HomeTeam       AwayTeam  HomeTeamGoals  AwayTeamGoals\n",
      "0     Sudan           Egypt            1.0            2.0\n",
      "1  Ethiopia    South Africa            NaN            NaN\n",
      "2     Egypt        Ethiopia            4.0            0.0\n",
      "3      Egypt       Ethiopia            4.0            0.0\n",
      "4     Sudan        Ethiopia            1.0            0.0\n",
      "5      Egypt          Sudan            2.0            1.0\n",
      "6  Ethiopia         Tunisia            4.0            2.0\n",
      "7      Egypt         Uganda            2.0            1.0\n",
      "8   Tunisia          Uganda            3.0            0.0\n",
      "9  Ethiopia           Egypt            4.0            2.0\n"
     ]
    }
   ],
   "source": [
    "# 3. Select specific columns\n",
    "print(\"\\n Selecting 'HomeTeam', 'AwayTeam', 'HomeTeamGoals', 'AwayTeamGoals' columns:\")\n",
    "print(\"\"*70)\n",
    "selected_cols = df[['HomeTeam', 'AwayTeam', 'HomeTeamGoals', 'AwayTeamGoals']]\n",
    "print(selected_cols.head(10))"
   ]
  },
  {
   "cell_type": "code",
   "execution_count": 50,
   "id": "843f7259",
   "metadata": {},
   "outputs": [
    {
     "name": "stdout",
     "output_type": "stream",
     "text": [
      "\n",
      " Rows where Egypt appears:\n",
      "\n",
      "Found 95 matches involving Egypt\n",
      "       Date  HomeTeam   AwayTeam  HomeTeamGoals  AwayTeamGoals\n",
      "0  10-Feb-57   Sudan       Egypt            1.0            2.0\n",
      "2  16-Feb-57   Egypt    Ethiopia            4.0            0.0\n",
      "3  22-May-59    Egypt   Ethiopia            4.0            0.0\n",
      "5  29-May-59    Egypt      Sudan            2.0            1.0\n",
      "7  18-Jan-62    Egypt     Uganda            2.0            1.0\n"
     ]
    }
   ],
   "source": [
    "\n",
    "# 4. Select rows where Egypt appears (in either HomeTeam or AwayTeam)\n",
    "print(\"\\n Rows where Egypt appears:\")\n",
    "print(\"\"*40)\n",
    "egypt_matches = df[(df['HomeTeam'].str.contains('Egypt', na=False)) | \n",
    "                   (df['AwayTeam'].str.contains('Egypt', na=False))]\n",
    "print(f\"Found {len(egypt_matches)} matches involving Egypt\")\n",
    "print(egypt_matches[['Date ', 'HomeTeam', 'AwayTeam', 'HomeTeamGoals', 'AwayTeamGoals']].head())"
   ]
  },
  {
   "cell_type": "code",
   "execution_count": 51,
   "id": "f4142ec9",
   "metadata": {},
   "outputs": [
    {
     "name": "stdout",
     "output_type": "stream",
     "text": [
      "\n",
      " Dataset dimensions:\n",
      "\n",
      "Number of rows: 622\n",
      "Number of columns: 12\n"
     ]
    }
   ],
   "source": [
    "# 5. Count rows and columns\n",
    "print(\"\\n Dataset dimensions:\")\n",
    "print(\"\"*25)\n",
    "rows, cols = df.shape\n",
    "print(f\"Number of rows: {rows}\")\n",
    "print(f\"Number of columns: {cols}\")"
   ]
  },
  {
   "cell_type": "code",
   "execution_count": 52,
   "id": "86399842",
   "metadata": {},
   "outputs": [
    {
     "name": "stdout",
     "output_type": "stream",
     "text": [
      "\n",
      " Rows with missing attendance:\n",
      "\n",
      "Found 100 rows with missing attendance\n",
      "        Date    HomeTeam       AwayTeam                 Stadium  Attendance\n",
      "1   10-Feb-57  Ethiopia    South Africa                     NaN         NaN\n",
      "8   20-Jan-62   Tunisia          Uganda  Hailé Sélassié Stadium         NaN\n",
      "9   21-Jan-62  Ethiopia           Egypt  Hailé Sélassié Stadium         NaN\n",
      "10  24-Nov-63     Ghana         Tunisia    Accra Sports Stadium         NaN\n",
      "11  26-Nov-63     Ghana        Ethiopia    Accra Sports Stadium         NaN\n"
     ]
    }
   ],
   "source": [
    "# 6. Select rows where 'Attendance' is missing\n",
    "print(\"\\n Rows with missing attendance:\")\n",
    "print(\"\"*35)\n",
    "missing_attendance = df[df['Attendance'].isna()]\n",
    "print(f\"Found {len(missing_attendance)} rows with missing attendance\")\n",
    "print(missing_attendance[['Date ', 'HomeTeam', 'AwayTeam', 'Stadium', 'Attendance']].head())"
   ]
  },
  {
   "cell_type": "code",
   "execution_count": 53,
   "id": "e0633e98",
   "metadata": {},
   "outputs": [
    {
     "name": "stdout",
     "output_type": "stream",
     "text": [
      "\n",
      " Rows where HomeTeamGoals are between 3 and 6:\n",
      "\n",
      "Found 138 matches\n",
      "       Date    HomeTeam   AwayTeam  HomeTeamGoals  AwayTeamGoals\n",
      "2  16-Feb-57     Egypt    Ethiopia            4.0            0.0\n",
      "3  22-May-59      Egypt   Ethiopia            4.0            0.0\n",
      "6  14-Jan-62  Ethiopia     Tunisia            4.0            2.0\n",
      "8  20-Jan-62   Tunisia      Uganda            3.0            0.0\n",
      "9  21-Jan-62  Ethiopia       Egypt            4.0            2.0\n"
     ]
    }
   ],
   "source": [
    "# 7. Select rows where HomeTeamGoals are between 3 and 6 (inclusive)\n",
    "print(\"\\n Rows where HomeTeamGoals are between 3 and 6:\")\n",
    "print(\"\"*50)\n",
    "goals_3_to_6 = df[(df['HomeTeamGoals'] >= 3) & (df['HomeTeamGoals'] <= 6)]\n",
    "print(f\"Found {len(goals_3_to_6)} matches\")\n",
    "print(goals_3_to_6[['Date ', 'HomeTeam', 'AwayTeam', 'HomeTeamGoals', 'AwayTeamGoals']].head())"
   ]
  },
  {
   "cell_type": "code",
   "execution_count": 54,
   "id": "124748c1",
   "metadata": {},
   "outputs": [
    {
     "name": "stdout",
     "output_type": "stream",
     "text": [
      "\n",
      " Changing AwayTeamGoals in 3rd row to 10:\n",
      "\n",
      "Before change:\n",
      "HomeTeam            Egypt \n",
      "AwayTeam          Ethiopia\n",
      "HomeTeamGoals          4.0\n",
      "AwayTeamGoals          0.0\n",
      "Name: 2, dtype: object\n",
      "After change:\n",
      "HomeTeam            Egypt \n",
      "AwayTeam          Ethiopia\n",
      "HomeTeamGoals          4.0\n",
      "AwayTeamGoals         10.0\n",
      "Name: 2, dtype: object\n"
     ]
    }
   ],
   "source": [
    "# 8. Change AwayTeamGoals in 3rd row to 10\n",
    "print(\"\\n Changing AwayTeamGoals in 3rd row to 10:\")\n",
    "print(\"\"*45)\n",
    "print(\"Before change:\")\n",
    "print(df.iloc[2][['HomeTeam', 'AwayTeam', 'HomeTeamGoals', 'AwayTeamGoals']])\n",
    "df_modified = df.copy()  # Create a copy to avoid modifying original\n",
    "df_modified.loc[2, 'AwayTeamGoals'] = 10\n",
    "print(\"After change:\")\n",
    "print(df_modified.iloc[2][['HomeTeam', 'AwayTeam', 'HomeTeamGoals', 'AwayTeamGoals']])"
   ]
  },
  {
   "cell_type": "code",
   "execution_count": 55,
   "id": "98b9cb44",
   "metadata": {},
   "outputs": [
    {
     "name": "stdout",
     "output_type": "stream",
     "text": [
      "\n",
      " Sorting by HomeTeam (asc) then HomeTeamGoals (desc):\n",
      "\n",
      "     HomeTeam      AwayTeam  HomeTeamGoals  AwayTeamGoals\n",
      "205  Algeria        Nigeria            5.0            1.0\n",
      "29   Algeria         Uganda            4.0            0.0\n",
      "135  Algeria         Guinea            3.0            2.0\n",
      "164  Algeria         Malawi            3.0            0.0\n",
      "171  Algeria          Egypt            3.0            1.0\n",
      "208  Algeria    Ivory Coast            3.0            0.0\n",
      "331  Algeria          Gabon            3.0            1.0\n",
      "611  Algeria         Guinea            3.0            0.0\n",
      "138  Algeria          Egypt            2.0            2.0\n",
      "150  Algeria        Nigeria            2.0            1.0\n"
     ]
    }
   ],
   "source": [
    "# 9. Sort DataFrame by HomeTeam (ascending) then by HomeTeamGoals (descending)\n",
    "# Note: The requirement mentions 'HomeTeamScores' but the column is 'HomeTeamGoals'\n",
    "print(\"\\n Sorting by HomeTeam (asc) then HomeTeamGoals (desc):\")\n",
    "print(\"\"*55)\n",
    "df_sorted = df.sort_values(['HomeTeam', 'HomeTeamGoals'], ascending=[True, False])\n",
    "print(df_sorted[['HomeTeam', 'AwayTeam', 'HomeTeamGoals', 'AwayTeamGoals']].head(10))"
   ]
  },
  {
   "cell_type": "code",
   "execution_count": 56,
   "id": "7d43356f",
   "metadata": {},
   "outputs": [
    {
     "name": "stdout",
     "output_type": "stream",
     "text": [
      "\n",
      " List of DataFrame column headers:\n",
      "\n",
      "['Year', 'Date ', 'Time ', 'HomeTeam', 'AwayTeam', 'HomeTeamGoals', 'AwayTeamGoals', 'Stage', 'SpecialWinConditions', 'Stadium', 'City', 'Attendance']\n"
     ]
    }
   ],
   "source": [
    "# 10. Get list of column headers\n",
    "print(\"\\n List of DataFrame column headers:\")\n",
    "print(\"\"*40)\n",
    "column_list = df.columns.tolist()\n",
    "print(column_list)\n",
    "\n"
   ]
  },
  {
   "cell_type": "code",
   "execution_count": 57,
   "id": "92a00f83",
   "metadata": {},
   "outputs": [
    {
     "name": "stdout",
     "output_type": "stream",
     "text": [
      "\n",
      " Adding a new column 'TotalGoals':\n",
      "\n",
      "New column added successfully!\n",
      "    HomeTeam       AwayTeam  HomeTeamGoals  AwayTeamGoals  TotalGoals\n",
      "0     Sudan           Egypt            1.0            2.0         3.0\n",
      "1  Ethiopia    South Africa            NaN            NaN         0.0\n",
      "2     Egypt        Ethiopia            4.0            0.0         4.0\n",
      "3      Egypt       Ethiopia            4.0            0.0         4.0\n",
      "4     Sudan        Ethiopia            1.0            0.0         1.0\n"
     ]
    }
   ],
   "source": [
    "# 11. Append a column of choice\n",
    "print(\"\\n Adding a new column 'TotalGoals':\")\n",
    "print(\"\"*40)\n",
    "df_with_new_col = df.copy()\n",
    "df_with_new_col['TotalGoals'] = df_with_new_col['HomeTeamGoals'].fillna(0) + df_with_new_col['AwayTeamGoals'].fillna(0)\n",
    "print(\"New column added successfully!\")\n",
    "print(df_with_new_col[['HomeTeam', 'AwayTeam', 'HomeTeamGoals', 'AwayTeamGoals', 'TotalGoals']].head())\n"
   ]
  },
  {
   "cell_type": "code",
   "execution_count": 59,
   "id": "a9ee0fef",
   "metadata": {},
   "outputs": [
    {
     "name": "stdout",
     "output_type": "stream",
     "text": [
      "\n",
      " Adding 2 new rows to DataFrame:\n",
      "\n",
      "Original rows: 622\n",
      "After adding 2 rows: 624\n",
      "Last 3 rows:\n",
      "     HomeTeam  AwayTeam  HomeTeamGoals  AwayTeamGoals\n",
      "621  Senegal    Algeria            0.0            1.0\n",
      "622   Nigeria   Algeria            2.0            1.0\n",
      "623   Morocco   Tunisia            1.0            3.0\n"
     ]
    }
   ],
   "source": [
    "# 12. Add 2 rows to DataFrame\n",
    "print(\"\\n Adding 2 new rows to DataFrame:\")\n",
    "print(\"\"*40)\n",
    "new_rows = pd.DataFrame({\n",
    "    'Year': [2025, 2025],\n",
    "    'Date ': ['01-Jan-25', '02-Jan-25'],\n",
    "    'Time ': ['', ''],\n",
    "    'HomeTeam': ['Nigeria', 'Morocco'],\n",
    "    'AwayTeam': ['Algeria', 'Tunisia'],\n",
    "    'HomeTeamGoals': [2, 1],\n",
    "    'AwayTeamGoals': [1, 3],\n",
    "    'Stage': ['Group A', 'Group B'],\n",
    "    'SpecialWinConditions': ['', ''],\n",
    "    'Stadium': ['Test Stadium', 'Test Stadium 2'],\n",
    "    'City': ['Lagos', 'Rabat'],\n",
    "    'Attendance': [50000, 45000]\n",
    "})\n",
    "\n",
    "df_with_new_rows = pd.concat([df, new_rows], ignore_index=True)\n",
    "print(f\"Original rows: {len(df)}\")\n",
    "print(f\"After adding 2 rows: {len(df_with_new_rows)}\")\n",
    "print(\"Last 3 rows:\")\n",
    "print(df_with_new_rows.tail(3)[['HomeTeam', 'AwayTeam', 'HomeTeamGoals', 'AwayTeamGoals']])\n",
    "\n",
    "\n",
    "\n",
    "\n"
   ]
  },
  {
   "cell_type": "code",
   "execution_count": 7,
   "id": "9be8b7d8",
   "metadata": {},
   "outputs": [
    {
     "name": "stdout",
     "output_type": "stream",
     "text": [
      "\n",
      " Changing 'Uganda' to 'China' in AwayTeam column:\n",
      "\n",
      "Changed 0 instances of 'Uganda' to 'China'\n",
      "Sample rows with China:\n",
      "Empty DataFrame\n",
      "Columns: [HomeTeam, AwayTeam, HomeTeamGoals, AwayTeamGoals]\n",
      "Index: []\n"
     ]
    }
   ],
   "source": [
    "# 13. Change 'Uganda' to 'China' in AwayTeam column\n",
    "print(\"\\n Changing 'Uganda' to 'China' in AwayTeam column:\")\n",
    "print(\"\"*50)\n",
    "df_country_changed = df.copy()\n",
    "uganda_count_before = (df_country_changed['AwayTeam'] == 'Uganda').sum()\n",
    "df_country_changed['AwayTeam'] = df_country_changed['AwayTeam'].replace('Uganda', 'China')\n",
    "china_count_after = (df_country_changed['AwayTeam'] == 'China').sum()\n",
    "print(f\"Changed {uganda_count_before} instances of 'Uganda' to 'China'\")\n",
    "print(\"Sample rows with China:\")\n",
    "china_matches = df_country_changed[df_country_changed['AwayTeam'] == 'China']\n",
    "print(china_matches[['HomeTeam', 'AwayTeam', 'HomeTeamGoals', 'AwayTeamGoals']].head())"
   ]
  },
  {
   "cell_type": "code",
   "execution_count": 8,
   "id": "e44b3ea7",
   "metadata": {},
   "outputs": [
    {
     "name": "stdout",
     "output_type": "stream",
     "text": [
      "\n",
      "Resetting DataFrame index:\n",
      "\n",
      "Index reset successfully!\n",
      "First few rows with new index:\n",
      "   Year      Date  Time    HomeTeam       AwayTeam  HomeTeamGoals  \\\n",
      "0  1957  10-Feb-57   NaN     Sudan           Egypt            1.0   \n",
      "1  1957  10-Feb-57   NaN  Ethiopia    South Africa            NaN   \n",
      "2  1957  16-Feb-57   NaN     Egypt        Ethiopia            4.0   \n",
      "\n",
      "   AwayTeamGoals       Stage  \\\n",
      "0            2.0  Semifinals   \n",
      "1            NaN  Semifinals   \n",
      "2            0.0       Final   \n",
      "\n",
      "                                SpecialWinConditions            Stadium  \\\n",
      "0                                                NaN  Municipal Stadium   \n",
      "1  Ethiopia  wins due to disqualification of othe...                NaN   \n",
      "2                                                NaN  Municipal Stadium   \n",
      "\n",
      "        City  Attendance  \n",
      "0   Khartoum     30000.0  \n",
      "1        NaN         NaN  \n",
      "2   Khartoum     30000.0  \n"
     ]
    }
   ],
   "source": [
    "# 14. Reset index\n",
    "# Resetting the index of the DataFrame\n",
    "\n",
    "print(\"\\nResetting DataFrame index:\")\n",
    "print(\"\"*35)\n",
    "df_reset_index = df.copy()\n",
    "df_reset_index = df_reset_index.reset_index(drop=True)\n",
    "print(\"Index reset successfully!\")\n",
    "print(\"First few rows with new index:\")\n",
    "print(df_reset_index.head(3))\n"
   ]
  },
  {
   "cell_type": "code",
   "execution_count": 10,
   "id": "a7d48f87",
   "metadata": {},
   "outputs": [
    {
     "name": "stdout",
     "output_type": "stream",
     "text": [
      "\n",
      " Checking if 'Stadium' column exists:\n",
      "\n",
      "'Stadium' column exists: True\n",
      "Stadium column info:\n",
      "  Non-null values: 618\n",
      "  Null values: 4\n"
     ]
    }
   ],
   "source": [
    "# 15. Check if 'Stadium' column is present\n",
    "# Check if 'Stadium' column exists and print its info\n",
    "print(\"\\n Checking if 'Stadium' column exists:\")\n",
    "print(\"\"*40)\n",
    "if 'df' in globals():\n",
    "    stadium_exists = 'Stadium' in df.columns\n",
    "    print(f\"'Stadium' column exists: {stadium_exists}\")\n",
    "    if stadium_exists:\n",
    "        print(\"Stadium column info:\")\n",
    "        print(f\"  Non-null values: {df['Stadium'].notna().sum()}\")\n",
    "        print(f\"  Null values: {df['Stadium'].isna().sum()}\")\n",
    "else:\n",
    "    print(\"DataFrame 'df' is not defined. Please run the cell that loads the dataset first.\")\n",
    "\n"
   ]
  },
  {
   "cell_type": "code",
   "execution_count": 40,
   "id": "a3d2915d",
   "metadata": {},
   "outputs": [
    {
     "name": "stdout",
     "output_type": "stream",
     "text": [
      "\n",
      ". Converting AwayTeamGoals from int to float:\n",
      "\n",
      "Original dtype: float64\n",
      "New dtype: float64\n"
     ]
    }
   ],
   "source": [
    "# 16. Convert AwayTeamGoals datatype from int to float\n",
    "print(\"\\n. Converting AwayTeamGoals from int to float:\")\n",
    "print(\"\"*50)\n",
    "df_converted = df.copy()\n",
    "print(f\"Original dtype: {df_converted['AwayTeamGoals'].dtype}\")\n",
    "df_converted['AwayTeamGoals'] = df_converted['AwayTeamGoals'].astype(float)\n",
    "print(f\"New dtype: {df_converted['AwayTeamGoals'].dtype}\")\n",
    "\n",
    "\n"
   ]
  },
  {
   "cell_type": "code",
   "execution_count": 15,
   "id": "45370a60",
   "metadata": {},
   "outputs": [
    {
     "name": "stdout",
     "output_type": "stream",
     "text": [
      "Removing last 10 rows from DataFrame:\n",
      "\n",
      "Original length: 622\n",
      "After removing 10 rows: 612\n",
      "Rows removed: 10\n"
     ]
    }
   ],
   "source": [
    "# 17. Remove last 10 rows\n",
    "# Removing the last 10 rows from the DataFrame\n",
    "\n",
    "print(\"Removing last 10 rows from DataFrame:\")\n",
    "print(\"\"*45)\n",
    "df_trimmed = df.copy()\n",
    "original_length = len(df_trimmed)\n",
    "df_trimmed = df_trimmed.iloc[:-10]\n",
    "new_length = len(df_trimmed)\n",
    "print(f\"Original length: {original_length}\")\n",
    "print(f\"After removing 10 rows: {new_length}\")\n",
    "print(f\"Rows removed: {original_length - new_length}\")\n"
   ]
  },
  {
   "cell_type": "code",
   "execution_count": 17,
   "id": "2a1b634e",
   "metadata": {},
   "outputs": [
    {
     "name": "stdout",
     "output_type": "stream",
     "text": [
      "Last 10 rows before removal:\n",
      "     Year                      Date   Time       HomeTeam       AwayTeam  \\\n",
      "612  2019   8 July 2019 (2019-07-08)  18:00         Mali     Ivory Coast   \n",
      "613  2019   8 July 2019 (2019-07-08)  21:00        Ghana         Tunisia   \n",
      "614  2019  10 July 2019 (2019-07-10)  18:00      Senegal           Benin   \n",
      "615  2019  10 July 2019 (2019-07-10)  21:00      Nigeria    South Africa   \n",
      "616  2019  11 July 2019 (2019-07-11)  18:00  Ivory Coast         Algeria   \n",
      "617  2019  11 July 2019 (2019-07-11)  21:00   Madagascar         Tunisia   \n",
      "618  2019  14 July 2019 (2019-07-14)  18:00      Senegal         Tunisia   \n",
      "619  2019  14 July 2019 (2019-07-14)  21:00      Algeria         Nigeria   \n",
      "620  2019  17 July 2019 (2019-07-17)  21:00      Tunisia         Nigeria   \n",
      "621  2019  19 July 2019 (2019-07-19)  21:00      Senegal         Algeria   \n",
      "\n",
      "     HomeTeamGoals  AwayTeamGoals                 Stage  \\\n",
      "612            0.0            1.0           Round of 16   \n",
      "613            1.0            1.0           Round of 16   \n",
      "614            1.0            0.0        Quarter-finals   \n",
      "615            2.0            1.0        Quarter-finals   \n",
      "616            1.0            1.0        Quarter-finals   \n",
      "617            0.0            3.0        Quarter-finals   \n",
      "618            1.0            0.0           Semi-finals   \n",
      "619            2.0            1.0           Semi-finals   \n",
      "620            0.0            1.0  Third place play-off   \n",
      "621            0.0            1.0                 Final   \n",
      "\n",
      "               SpecialWinConditions                      Stadium       City  \\\n",
      "612                             NaN                 Suez Stadium       Suez   \n",
      "613   Tunisia win on Penalities 4-5             Ismailia Stadium   Ismailia   \n",
      "614                             NaN              30 June Stadium      Cairo   \n",
      "615                             NaN  Cairo International Stadium      Cairo   \n",
      "616   Algeria win on Penalities 3-4                 Suez Stadium       Suez   \n",
      "617                             NaN             Al Salam Stadium      Cairo   \n",
      "618           win after extra time               30 June Stadium      Cairo   \n",
      "619                             NaN  Cairo International Stadium      Cairo   \n",
      "620                             NaN             Al Salam Stadium      Cairo   \n",
      "621                             NaN  Cairo International Stadium      Cairo   \n",
      "\n",
      "     Attendance  \n",
      "612      7672.0  \n",
      "613      8890.0  \n",
      "614      5798.0  \n",
      "615     48343.0  \n",
      "616      8233.0  \n",
      "617      7568.0  \n",
      "618      9143.0  \n",
      "619     49775.0  \n",
      "620      6340.0  \n",
      "621     75000.0  \n",
      "Last 10 rows after removal:\n",
      "     Year                      Date   Time         HomeTeam        AwayTeam  \\\n",
      "602  2019  29 June 2019 (2019-06-29)  19:00       Cameroon            Ghana   \n",
      "603  2019  29 June 2019 (2019-06-29)  22:00          Benin    Guinea-Bissau   \n",
      "604  2019   2 July 2019 (2019-07-02)  18:00          Benin         Cameroon   \n",
      "605  2019   2 July 2019 (2019-07-02)  18:00  Guinea-Bissau            Ghana   \n",
      "606  2019   5 July 2019 (2019-07-05)  18:00        Morocco            Benin   \n",
      "607  2019   5 July 2019 (2019-07-05)  21:00         Uganda          Senegal   \n",
      "608  2019   6 July 2019 (2019-07-06)  18:00        Nigeria         Cameroon   \n",
      "609  2019   6 July 2019 (2019-07-06)  21:00          Egypt     South Africa   \n",
      "610  2019   7 July 2019 (2019-07-07)  18:00     Madagascar         DR Congo   \n",
      "611  2019   7 July 2019 (2019-07-07)  21:00        Algeria           Guinea   \n",
      "\n",
      "     HomeTeamGoals  AwayTeamGoals        Stage  \\\n",
      "602            0.0            0.0      Group F   \n",
      "603            0.0            0.0      Group F   \n",
      "604            0.0            0.0      Group F   \n",
      "605            0.0            2.0      Group F   \n",
      "606            1.0            1.0  Round of 16   \n",
      "607            0.0            1.0  Round of 16   \n",
      "608            3.0            2.0  Round of 16   \n",
      "609            0.0            1.0  Round of 16   \n",
      "610            2.0            2.0  Round of 16   \n",
      "611            3.0            0.0  Round of 16   \n",
      "\n",
      "                  SpecialWinConditions                      Stadium  \\\n",
      "602                                NaN             Ismailia Stadium   \n",
      "603                                NaN             Ismailia Stadium   \n",
      "604                                NaN             Ismailia Stadium   \n",
      "605                                NaN                 Suez Stadium   \n",
      "606        Benin win on Penalities 1-4             Al Salam Stadium   \n",
      "607                                NaN  Cairo International Stadium   \n",
      "608                                NaN           Alexandria Stadium   \n",
      "609                                NaN  Cairo International Stadium   \n",
      "610  Madagascar  win on Penalities 4-2           Alexandria Stadium   \n",
      "611                                NaN              30 June Stadium   \n",
      "\n",
      "            City  Attendance  \n",
      "602     Ismailia     16724.0  \n",
      "603     Ismailia      9212.0  \n",
      "604     Ismailia     14120.0  \n",
      "605         Suez      6905.0  \n",
      "606        Cairo      7500.0  \n",
      "607        Cairo      6950.0  \n",
      "608   Alexandria     10000.0  \n",
      "609        Cairo     75000.0  \n",
      "610   Alexandria      5890.0  \n",
      "611        Cairo      8205.0  \n"
     ]
    }
   ],
   "source": [
    "#access the last 10 and drop them\n",
    "print(\"Last 10 rows before removal:\")\n",
    "print(df.tail(10))\n",
    "df = df.iloc[:-10]\n",
    "print(\"Last 10 rows after removal:\")\n",
    "print(df.tail(10))\n"
   ]
  },
  {
   "cell_type": "code",
   "execution_count": 16,
   "id": "e82119e9",
   "metadata": {},
   "outputs": [
    {
     "name": "stdout",
     "output_type": "stream",
     "text": [
      "\n",
      " Iterating over first 5 rows (sample):\n",
      "\n",
      "Row 0: Sudan  vs  Egypt (1.0-2.0)\n",
      "Row 1: Ethiopia  vs  South Africa (nan-nan)\n",
      "Row 2: Egypt  vs  Ethiopia (4.0-0.0)\n",
      "Row 3: Egypt vs  Ethiopia (4.0-0.0)\n",
      "Row 4: Sudan  vs  Ethiopia (1.0-0.0)\n"
     ]
    }
   ],
   "source": [
    "# 18. Iterate over rows\n",
    "# Iterating over the first 5 rows and printing HomeTeam vs AwayTeam with scores\n",
    "print(\"\\n Iterating over first 5 rows (sample):\")\n",
    "print(\"\"*45)\n",
    "for index, row in df.head(5).iterrows():\n",
    "    print(f\"Row {index}: {row['HomeTeam']} vs {row['AwayTeam']} ({row['HomeTeamGoals']}-{row['AwayTeamGoals']})\")\n",
    "\n",
    "\n"
   ]
  },
  {
   "cell_type": "code",
   "execution_count": 43,
   "id": "3c6d270c",
   "metadata": {},
   "outputs": [
    {
     "name": "stdout",
     "output_type": "stream",
     "text": [
      "\n",
      ". Changing DataFrame column order:\n",
      "\n",
      "New column order:\n",
      "['Year', 'Date ', 'HomeTeam', 'AwayTeam', 'HomeTeamGoals', 'AwayTeamGoals', 'Stage', 'Stadium', 'City', 'Attendance', 'Time ', 'SpecialWinConditions']\n",
      "Sample data with new order:\n",
      "   Year      Date    HomeTeam       AwayTeam  HomeTeamGoals  AwayTeamGoals  \\\n",
      "0  1957  10-Feb-57     Sudan           Egypt            1.0            2.0   \n",
      "1  1957  10-Feb-57  Ethiopia    South Africa            NaN            NaN   \n",
      "2  1957  16-Feb-57     Egypt        Ethiopia            4.0            0.0   \n",
      "\n",
      "        Stage            Stadium       City  Attendance Time   \\\n",
      "0  Semifinals  Municipal Stadium   Khartoum     30000.0   NaN   \n",
      "1  Semifinals                NaN        NaN         NaN   NaN   \n",
      "2       Final  Municipal Stadium   Khartoum     30000.0   NaN   \n",
      "\n",
      "                                SpecialWinConditions  \n",
      "0                                                NaN  \n",
      "1  Ethiopia  wins due to disqualification of othe...  \n",
      "2                                                NaN  \n"
     ]
    }
   ],
   "source": [
    "# 19. Change column order\n",
    "print(\"\\n. Changing DataFrame column order:\")\n",
    "print(\"\"*40)\n",
    "# Define new column order\n",
    "new_column_order = ['Year', 'Date ', 'HomeTeam', 'AwayTeam', 'HomeTeamGoals', 'AwayTeamGoals', \n",
    "                   'Stage', 'Stadium', 'City', 'Attendance', 'Time ', 'SpecialWinConditions']\n",
    "df_reordered = df[new_column_order]\n",
    "print(\"New column order:\")\n",
    "print(df_reordered.columns.tolist())\n",
    "print(\"Sample data with new order:\")\n",
    "print(df_reordered.head(3))\n"
   ]
  },
  {
   "cell_type": "code",
   "execution_count": null,
   "id": "7d3c6261",
   "metadata": {},
   "outputs": [
    {
     "name": "stdout",
     "output_type": "stream",
     "text": [
      "\n",
      " Deleting rows where HomeTeamGoals is 0:\n",
      "\n",
      "Rows with HomeTeamGoals = 0: 128\n",
      "Original DataFrame length: 622\n",
      "After removing zero-goal rows: 494\n",
      "Rows deleted: 128\n",
      "\n",
      "\n",
      "ANALYSIS COMPLETE!\n",
      "\n",
      "\n",
      " BONUS: Dataset Summary Statistics\n",
      "\n",
      "Total matches in dataset: 622\n",
      "Years covered: 1957 - 2019\n",
      "Unique teams (Home): 41\n",
      "Unique teams (Away): 46\n",
      "Average goals per match: 2.45\n",
      "Highest scoring match: 12.0 goals\n",
      "\n",
      "Most active teams (as home team):\n",
      "HomeTeam\n",
      "Ghana           58\n",
      "Cameroon        55\n",
      "Nigeria         54\n",
      "Egypt           50\n",
      "Ivory Coast     46\n",
      "Name: count, dtype: int64\n"
     ]
    }
   ],
   "source": [
    "# 20. Delete rows where HomeTeamGoals is 0\n",
    "# Deleting rows where HomeTeamGoals is 0\n",
    "print(\"\\n Deleting rows where HomeTeamGoals is 0:\")\n",
    "print(\"\"*45)\n",
    "df_no_zero_goals = df.copy()\n",
    "zero_goals_count = (df_no_zero_goals['HomeTeamGoals'] == 0).sum()\n",
    "df_no_zero_goals = df_no_zero_goals[df_no_zero_goals['HomeTeamGoals'] != 0]\n",
    "print(f\"Rows with HomeTeamGoals = 0: {zero_goals_count}\")\n",
    "print(f\"Original DataFrame length: {len(df)}\")\n",
    "print(f\"After removing zero-goal rows: {len(df_no_zero_goals)}\")\n",
    "print(f\"Rows deleted: {len(df) - len(df_no_zero_goals)}\")\n",
    "\n",
    "print(\"\\n\" + \"\"*60)\n",
    "print(\"ANALYSIS COMPLETE!\")\n",
    "print(\"\"*60)\n",
    "\n",
    "# Additional summary statistics\n",
    "print(\"\\n BONUS: Dataset Summary Statistics\")\n",
    "print(\"\"*40)\n",
    "print(f\"Total matches in dataset: {len(df)}\")\n",
    "print(f\"Years covered: {df['Year'].min()} - {df['Year'].max()}\")\n",
    "print(f\"Unique teams (Home): {df['HomeTeam'].nunique()}\")\n",
    "print(f\"Unique teams (Away): {df['AwayTeam'].nunique()}\")\n",
    "print(f\"Average goals per match: {(df['HomeTeamGoals'].fillna(0) + df['AwayTeamGoals'].fillna(0)).mean():.2f}\")\n",
    "print(f\"Highest scoring match: {(df['HomeTeamGoals'].fillna(0) + df['AwayTeamGoals'].fillna(0)).max()} goals\")\n",
    "\n",
    "# Most frequent teams\n",
    "print(f\"\\nMost active teams (as home team):\")\n",
    "print(df['HomeTeam'].value_counts().head(5))\n"
   ]
  }
 ],
 "metadata": {
  "kernelspec": {
   "display_name": "ml_env",
   "language": "python",
   "name": "python3"
  },
  "language_info": {
   "codemirror_mode": {
    "name": "ipython",
    "version": 3
   },
   "file_extension": ".py",
   "mimetype": "text/x-python",
   "name": "python",
   "nbconvert_exporter": "python",
   "pygments_lexer": "ipython3",
   "version": "3.13.3"
  }
 },
 "nbformat": 4,
 "nbformat_minor": 5
}
